{
 "cells": [
  {
   "cell_type": "code",
   "execution_count": null,
   "metadata": {
    "vscode": {
     "languageId": "plaintext"
    }
   },
   "outputs": [],
   "source": [
    "import pandas as pd\n",
    "import numpy as np\n",
    "import glob\n",
    "from tensorflow.keras.models import load_model\n",
    "\n",
    "# Define the preprocessing function\n",
    "def read_data(path):\n",
    "    appended_data = []\n",
    "    df = [pd.read_csv(filename, header=21) for filename in glob.glob(path)]\n",
    "    peak_abs = np.zeros((np.shape(df)[0]))\n",
    "    for file in range(np.shape(df)[0]):\n",
    "        df[file]['wavelength'] = pd.to_numeric(df[file]['Wavelength (nm)'], errors='coerce')\n",
    "        df[file]['absorbance'] = pd.to_numeric(df[file]['Absorbance (AU)'], errors='coerce')\n",
    "        df[file]['absorbance'] = df[file]['absorbance'] / np.max(df[file]['absorbance'])\n",
    "        df[file] = df[file].drop(['wavelength', 'Absorbance (AU)', 'Reference Signal (unitless)', 'Sample Signal (unitless)', 'Wavelength (nm)'], axis=1)\n",
    "        appended_data.append(df[file].T)\n",
    "    appended_data = pd.concat(appended_data)\n",
    "    return appended_data, peak_abs\n",
    "\n",
    "# Preprocess the new data\n",
    "path_new_data = r'C:\\Users\\chaba\\OneDrive\\Skrivebord\\MAS513_local\\Textile_sorting\\Project\\textile_sorting_NIRSCAN_\\samples\\Test_Label\\*.csv'  # Replace with the actual path to your new CSV file\n",
    "new_data, _ = read_data(path_new_data)\n",
    "\n",
    "# Convert the new data to a NumPy array\n",
    "new_data_arr = np.array(new_data)\n",
    "\n",
    "# Load the trained model\n",
    "model_save_path = r'C:\\Users\\chaba\\OneDrive\\Skrivebord\\MAS513_local\\Textile_sorting\\Project\\textile_sorting_NIRSCAN_\\scripts\\logs\\20241119-085834.h5'  # Replace with the actual path to your model\n",
    "model = load_model(model_save_path)\n",
    "\n",
    "# Make predictions\n",
    "predictions = model.predict(new_data_arr)\n",
    "\n",
    "# Convert predictions to labels (if necessary)\n",
    "predicted_labels = np.argmax(predictions, axis=1)\n",
    "\n",
    "# Print or save the predictions\n",
    "print(predicted_labels)"
   ]
  }
 ],
 "metadata": {
  "language_info": {
   "name": "python"
  }
 },
 "nbformat": 4,
 "nbformat_minor": 2
}
