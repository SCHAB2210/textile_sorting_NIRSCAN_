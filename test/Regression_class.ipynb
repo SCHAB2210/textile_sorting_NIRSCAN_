{
 "cells": [
  {
   "cell_type": "markdown",
   "metadata": {},
   "source": [
    "Hello world of ML. Demonstrate that ML algorithm can be used as linear regression. \n",
    "1. Generate a feature vector of length 10 sampled randomly from Uniform distribution (x)\n",
    "2. The target variable is related to the features as y=beta_0+beta_1*x, where beta_0=1 and beta_1=2\n",
    "3. It was observed that the target variable contains noise sampled from Gaussian distribution with mean and standard deviation = 2 and 1 respectively (noise)\n",
    "4. Using regression library fit the noisy target variable to features and determine the coefficients\n",
    "5. Using ML algorithm fit the noisy target variable to features and determine the coefficients\n",
    "6. Compare the results and make your comments\n",
    "7. Using 4 and 5 find the target value given feature is 6. Do you see any discrepencienices in results ?\n"
   ]
  },
  {
   "cell_type": "code",
   "execution_count": 1,
   "metadata": {},
   "outputs": [],
   "source": [
    "\n",
    "# import libraries\n",
    "\n",
    "import numpy as np\n",
    "import tensorflow as tf\n",
    "import matplotlib.pyplot as plt\n",
    "from sklearn.linear_model import LinearRegression\n"
   ]
  },
  {
   "cell_type": "markdown",
   "metadata": {},
   "source": [
    " Linear regression "
   ]
  },
  {
   "cell_type": "code",
   "execution_count": 2,
   "metadata": {},
   "outputs": [
    {
     "data": {
      "image/png": "[encoded data removed]",
      "text/plain": [
       "<Figure size 600x600 with 2 Axes>"
      ]
     },
     "metadata": {},
     "output_type": "display_data"
    }
   ],
   "source": [
    "#creat data set - features and (noisy) target variables\n",
    "%matplotlib inline\n",
    "\n",
    "\n",
    "num_sample=10\n",
    "x=np.array([np.arange(0,num_sample)]) # x values 10 samples - the shape is 1x10 Feature vector \n",
    "x=x.T # x is feature so must be in rows 10x1 samples (instance)\n",
    "\n",
    "#parameters slope and intercept \\theta=[m,c] to be learnt\n",
    "beta1=2.0 # slope m \n",
    "beta0=1.0 #intercept c \n",
    "y=np.dot(x,beta1)+beta0 #10x1 y=beta_0x+beta1\n",
    "\n",
    "#add some noise in the data\n",
    "np.random.seed(1) # generates same random number\n",
    "mu, sigma = 2, 1 #mean and variance of Gaussian noise\n",
    "noise=np.array([np.random.normal(mu, sigma, num_sample)]) #1x10\n",
    "noise=noise.T #10x1\n",
    "\n",
    "y_noisy=y+noise #noisy y data 1x10\n",
    "\n",
    "# plot data\n",
    "fig, axs = plt.subplots(2, figsize=(6,6))\n",
    "axs[0].scatter(x,y, color='green')\n",
    "axs[0].set_title('Data')\n",
    "axs[1].scatter(x,y_noisy)\n",
    "axs[1].set_title('Noisy data')\n",
    "fig.tight_layout(pad=3.0)\n",
    "                    \n",
    "for ax in axs.flat:\n",
    "    ax.set(xlabel='x', ylabel='y')\n",
    "\n"
   ]
  },
  {
   "cell_type": "code",
   "execution_count": null,
   "metadata": {},
   "outputs": [],
   "source": [
    "#create a liner regression model\n",
    "linear_fit = LinearRegression().fit(x,y_noisy) # this function takes input of same dimension so make both 1x10\n",
    "beta1_hat=linear_fit.coef_ # is 2D as the data are forced to convert to 2D in form of matrix\n",
    "beta0_hat=linear_fit.intercept_\n",
    "\n",
    "r_sq=linear_fit.score(x,y_noisy) # higher the better\n",
    "\n",
    "print(\"The slope (beta1) is :{: .2f} \\n intercept (beta0) is: {: .2f} \\n score: {:.2} \" \n",
    "      .format(beta1_hat[0][0], beta0_hat[0],r_sq))\n",
    "\n",
    "# fitted line\n",
    "beta1_hat=beta1_hat[0][0]\n",
    "beta0_hat=beta0_hat[0]\n",
    "#y_noisy_hat=np.dot(x,beta0_hat)+beta1_hat\n",
    "\n",
    "y_noisy_hat=linear_fit.coef_*x+linear_fit.intercept_ #y=beta_1x+beta0\n",
    "\n",
    "\n",
    "# plot \n",
    "fig, axs = plt.subplots(2, figsize=(6,6))\n",
    "axs[0].scatter(x,y_noisy)\n",
    "axs[0].set_title('Noisy data')\n",
    "axs[1].scatter(x,y_noisy)\n",
    "axs[1].plot(x,y_noisy_hat, '-*')\n",
    "axs[1].set_title('Noisy data with linear fit')\n",
    "fig.tight_layout(pad=3.0)\n",
    "                    \n",
    "for ax in axs.flat:\n",
    "    ax.set(xlabel='x', ylabel='y')\n",
    "\n",
    "    \n"
   ]
  },
  {
   "cell_type": "markdown",
   "metadata": {},
   "source": [
    "Machine learning"
   ]
  },
  {
   "cell_type": "code",
   "execution_count": null,
   "metadata": {},
   "outputs": [],
   "source": [
    "# Can we learn the parameter using ML\n",
    "\n",
    "# Define layer. Single perceptron that take one sample as input\n",
    "layer0 = tf.keras.layers.Dense(units=1, input_shape=[1])\n",
    "\n",
    "\n",
    "model=tf.keras.Sequential([layer0])\n",
    "\n",
    "\n",
    "\n",
    "# Compile model\n",
    "model.compile(loss='mean_squared_error',\n",
    "              optimizer=tf.keras.optimizers.Adam(0.1))\n",
    "\n",
    "# Train the model\n",
    "EPOCHS=100\n",
    "history = model.fit(x, y_noisy, epochs=EPOCHS, verbose=True)#verbose=False, if do not want to see the epoch and evolution of weights\n",
    "\n",
    "#model summary\n",
    "model.summary()\n",
    "\n",
    "#%%\n",
    "#check  parameters - loss \n",
    "loss = history.history['loss']\n",
    "#val_loss = history.history['val_loss']\n",
    "epochs_range = range(EPOCHS)\n",
    "\n",
    "\n",
    "#loss\n",
    "plt.figure()\n",
    "plt.xlabel('Epoch Number')\n",
    "plt.ylabel(\"Loss Magnitude\")\n",
    "plt.plot(history.history['loss'])\n",
    "plt.show()\n",
    "\n",
    "# Prediction\n",
    "print('Prediction: {}'.format(model.predict([6.0])))\n",
    "\n",
    "# Get weight and bias\n",
    "para = layer0.get_weights()\n",
    "print('weight (beta1): {} bias(beta0): {}'.format(para[0], para[1]))\n",
    "\n",
    "#model prediction \n",
    "y_noisy_hat_ml=x*para[0]+para[1] # find weights and bias and compare with ground truth\n",
    "y_noisy_hat_ml_1=model.predict(x) # This is widely used\n",
    "\n",
    "# plot \n",
    "fig, axs = plt.subplots(2, figsize=(6,6))\n",
    "axs[0].scatter(x,y_noisy) # noisy data\n",
    "axs[0].set_title('Noisy data')\n",
    "axs[1].scatter(x,y_noisy, label='noisy data') # noisy data\n",
    "axs[1].plot(x,y_noisy_hat,'-*', label='linear fit')# linear fitting\n",
    "axs[1].plot(x,y_noisy_hat_ml, '--g', label='ML_wb') # ML using weight and bias\n",
    "axs[1].plot(x,y_noisy_hat_ml_1, '--k', label='ML_pred') # ML using model.predict\n",
    "# axs[1].plot(x,y, '--s', label='data without noise') # data without noise\n",
    "axs[1].set_title('Parameter estimation')\n",
    "fig.tight_layout(pad=3.0)\n",
    "                    \n",
    "for ax in axs.flat:\n",
    "    ax.set(xlabel='x', ylabel='y')\n",
    "leg = ax.legend(loc =\"lower right\");"
   ]
  },
  {
   "cell_type": "raw",
   "metadata": {
    "vscode": {
     "languageId": "raw"
    }
   },
   "source": [
    "Summary: weights(beta1) and bias(beta0) estimated by linear fit (ML) [Ground truth] -  2.07 (1.97) and 2.44 (3.08) [2,1]\n",
    "# this might change depending upon noise and the weight initialization "
   ]
  },
  {
   "cell_type": "code",
   "execution_count": null,
   "metadata": {},
   "outputs": [],
   "source": [
    "print('Model predcition using ML \\n: {}'.format(y_noisy_hat_ml_1)) # prediction from ML\n",
    "print(' \\n Model predcition using linear regression \\n: {}'.format(y_noisy_hat))"
   ]
  },
  {
   "cell_type": "code",
   "execution_count": null,
   "metadata": {},
   "outputs": [],
   "source": [
    "loss_fitting=np.square(y_noisy-y_noisy_hat)\n",
    "loss_ml=np.square(y_noisy-y_noisy_hat_ml_1)\n",
    "\n",
    "plt.plot(loss_fitting, '-r', label='loss_fitting')\n",
    "plt.plot(loss_ml, '--g', label='loss_ml')\n",
    "plt.legend(loc=\"upper right\")\n",
    "plt.xlabel('Data index')\n",
    "plt.ylabel('Loss')\n",
    "plt.show()\n"
   ]
  }
 ],
 "metadata": {
  "kernelspec": {
   "display_name": ".venv",
   "language": "python",
   "name": "python3"
  },
  "language_info": {
   "codemirror_mode": {
    "name": "ipython",
    "version": 3
   },
   "file_extension": ".py",
   "mimetype": "text/x-python",
   "name": "python",
   "nbconvert_exporter": "python",
   "pygments_lexer": "ipython3",
   "version": "3.10.11"
  }
 },
 "nbformat": 4,
 "nbformat_minor": 2
}
